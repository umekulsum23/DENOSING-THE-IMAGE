{
  "nbformat": 4,
  "nbformat_minor": 0,
  "metadata": {
    "colab": {
      "private_outputs": true,
      "provenance": []
    },
    "kernelspec": {
      "name": "python3",
      "display_name": "Python 3"
    },
    "language_info": {
      "name": "python"
    }
  },
  "cells": [
    {
      "cell_type": "code",
      "source": [
        "pip install diffusers transformers torch\n"
      ],
      "metadata": {
        "id": "yQX6euTVTwrL"
      },
      "execution_count": null,
      "outputs": []
    },
    {
      "cell_type": "code",
      "source": [
        "import torch\n",
        "from diffusers import StableDiffusionPipeline\n",
        "from PIL import Image\n",
        "import numpy as np\n",
        "import matplotlib.pyplot as plt\n",
        "\n",
        "# Load the correct Stable Diffusion model pipeline\n",
        "model = StableDiffusionPipeline.from_pretrained(\"stabilityai/stable-diffusion-2\")\n",
        "\n",
        "# Load your image (URL or file)\n",
        "image_path = \"path_to_your_noisy_image.jpg\"  # Update with your image file path\n",
        "\n",
        "# Open the image and convert to RGB\n",
        "image = Image.open(image_path).convert(\"RGB\")\n",
        "image = image.resize((512, 512))  # Resize for the model's expected size\n",
        "image_tensor = np.array(image) / 255.0  # Normalize to [0, 1]\n",
        "\n",
        "# Add random noise to the image to simulate a noisy input\n",
        "noise = np.random.randn(*image_tensor.shape) * 0.1  # Add Gaussian noise\n",
        "noisy_image = image_tensor + noise\n",
        "\n",
        "# Convert the noisy image to a PIL Image\n",
        "noisy_image_pil = Image.fromarray((noisy_image * 255).astype(np.uint8))\n",
        "\n",
        "# Perform denoising using the diffusion model (Stable Diffusion)\n",
        "with torch.no_grad():\n",
        "    denoised_image = model(prompt=\"a clear image\", init_image=noisy_image_pil).images[0]\n",
        "\n",
        "# Display the noisy and denoised images\n",
        "def show_images(images, titles):\n",
        "    fig, axes = plt.subplots(1, len(images), figsize=(15, 5))\n",
        "    for i, ax in enumerate(axes):\n",
        "        ax.imshow(images[i])\n",
        "        ax.set_title(titles[i])\n",
        "        ax.axis(\"off\")\n",
        "    plt.tight_layout()\n",
        "    plt.show()\n",
        "\n",
        "show_images([image, noisy_image_pil, denoised_image],\n",
        "             [\"Original Image\", \"Noisy Image\", \"Denoised Image\"])\n"
      ],
      "metadata": {
        "id": "-J3oX-FbTyvQ"
      },
      "execution_count": null,
      "outputs": []
    }
  ]
}